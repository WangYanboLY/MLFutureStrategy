{
 "cells": [
  {
   "cell_type": "code",
   "execution_count": null,
   "metadata": {},
   "outputs": [],
   "source": [
    "from 传统动量指标集 import *\n",
    "from 传统波动率指标集 import *\n",
    "from 国泰君安指标计算集 import *\n",
    "from 世宽指标计算集 import *\n",
    "\n",
    "import pandas as pd\n",
    "import 计算函数包\n",
    "from tqdm.contrib.concurrent import process_map\n",
    "from multiprocessing import Pool, cpu_count\n",
    "from functools import partial\n",
    "import 回测函数包\n",
    "import importlib\n",
    "importlib.reload(回测函数包)\n",
    "importlib.reload(计算函数包)\n",
    "import 计算函数包 as cf\n",
    "from 回测函数包 import *\n",
    "# import newbacktest"
   ]
  },
  {
   "cell_type": "code",
   "execution_count": 10,
   "metadata": {},
   "outputs": [
    {
     "name": "stdout",
     "output_type": "stream",
     "text": [
      "已删除所有周五和所有换月日\n"
     ]
    }
   ],
   "source": [
    "# 首先计算因子\n",
    "\n",
    "\n",
    "if __name__ == \"__main__\":\n",
    "    feature_compute_funcs = [\n",
    "        high_low_5days, high_low_17days,\n",
    "\n",
    "        volume_std_2days, volume_std_11days, volume_std_21days,\n",
    "\n",
    "        returns_std_3days, returns_std_27days, returns_last_5days, returns_last_18day, returns_last_2days,\n",
    "\n",
    "        weighted_avg_return_2, weighted_avg_return_42,\n",
    "\n",
    "        returns_daliy_max_2days, returns_daliy_max_7days, returns_daliy_max_last_20days,\n",
    "\n",
    "        sma_weight_con_23_37, sma_weight_con_3_62,\n",
    "\n",
    "        flipping_weight_29_69, flipping_weight_4_67,\n",
    "\n",
    "        gj_001, gj_002, gj_003, gj_004, gj_005, gj_006, gj_007, gj_008, gj_009, gj_010,\n",
    "        gj_011, gj_012, gj_013, gj_014, gj_015, gj_016, gj_017, gj_018, gj_019, gj_020,\n",
    "        gj_021, gj_022, gj_023, gj_024, gj_025, gj_026, gj_027, gj_028, gj_029, gj_031,\n",
    "        gj_032, gj_033, gj_034, gj_035, gj_036, gj_037, gj_038, gj_039, gj_040, gj_041,\n",
    "        gj_042, gj_043, gj_044, gj_045, gj_046, gj_047, gj_048, gj_049, gj_050, gj_051,\n",
    "        gj_052, gj_053, gj_054, gj_056, gj_057, gj_058, gj_059, gj_060, gj_061, gj_062,\n",
    "        gj_063, gj_064, gj_065, gj_066,\n",
    "\n",
    "        wq_001, wq_002, wq_003, wq_004, wq_005, wq_006, wq_007, wq_008, wq_009, wq_010,\n",
    "        wq_011, wq_012, wq_013, wq_014, wq_015, wq_016, wq_017, wq_018, wq_019, wq_020,\n",
    "        wq_021, wq_022, wq_023, wq_024, wq_025, wq_026, wq_027, wq_028, wq_029, wq_030,\n",
    "        wq_031, wq_032, wq_033, wq_034, wq_035, wq_036, wq_037, wq_038, wq_039, wq_040,\n",
    "        wq_041, wq_042, wq_043, wq_044, wq_045, wq_046, wq_047, wq_049, wq_050, wq_051,\n",
    "        wq_052, wq_053, wq_054, wq_055, wq_057, wq_065, wq_064, wq_060, wq_061, wq_066,\n",
    "        wq_068, wq_070, wq_071, wq_072, wq_073, wq_074, wq_075, wq_077, wq_078, wq_081,\n",
    "        wq_083, wq_085\n",
    "    ]\n",
    "    # 读取因子名\n",
    "    feature_names = [func.__name__ for func in feature_compute_funcs]\n",
    "    df = pd.read_csv(\"/Users/wangyanbo/24Spring/intern/MLBasedFuturesStrategy/Dataset/指标已计算/dataset.csv\")\n",
    "    df['date'] = pd.to_datetime(df['date'])\n",
    "    df = df.loc[df['huanyue'] != 1]\n",
    "    df = df.loc[df['date'].dt.dayofweek != 4]\n",
    "    print(\"已删除所有周五和所有换月日\")\n",
    "\n",
    "    # TODO 修改初筛因子的方法\n",
    "    # ic = cf.information_coefficient(df, feature_list=feature_names)\n",
    "    # features = cf.factor_filter_double(df, ic, number_bar=0.1, top_n=15, ic_bar=0.07125)\n",
    "    # print(features)\n",
    "    # print(\"指标筛选已完成\")"
   ]
  },
  {
   "cell_type": "code",
   "execution_count": 11,
   "metadata": {},
   "outputs": [
    {
     "name": "stdout",
     "output_type": "stream",
     "text": [
      "元素总数是: 1286\n"
     ]
    }
   ],
   "source": [
    "# 对于给定name的期货进行训练\n",
    "diction_model = []\n",
    "# TODO: 如何用上第一步初筛的结果\n",
    "# selected_features = feature_names\n",
    "\n",
    "name = 'AU'\n",
    "results = []\n",
    "# selected_features = features[name]\n",
    "selected_features = feature_names\n",
    "columns_to_extract = ['date'] + ['id'] + selected_features + ['returns']\n",
    "df_subset = df[df['id'] == name][columns_to_extract]\n",
    "\n",
    "# 删除缺失值\n",
    "df_subset = df_subset.dropna(thresh=int(len(df_subset)*0.9), axis=1)\n",
    "df_subset = df_subset.dropna()\n",
    "df_subset.replace([np.inf, -np.inf], np.nan, inplace=True)\n",
    "df_subset.fillna(method='ffill', inplace=True)\n",
    "df_subset['prediction'] = 0\n",
    "df_subset['prediction'] = df_subset['prediction'].astype(float)\n",
    "\n",
    "# 将数据前99%取出\n",
    "threshold = int(0.99 * len(df_subset))\n",
    "if threshold <= 287:\n",
    "    # 如果某品种过往数据太少，这个品种将不参与运算\n",
    "    print(\"当前品种交易数据太少\")\n",
    "else:\n",
    "    df_subset['label'] = np.where(df_subset.index.isin(df_subset.index[:287]), -1, 1)\n",
    "    diction_model.append(df_subset)\n",
    "\n",
    "# results.append(cf.linear_regression_rolling(df_subset, length=287))\n",
    "\n",
    "sum_length = sum(len(item) for item in diction_model)\n",
    "print(\"元素总数是:\", sum_length)"
   ]
  },
  {
   "cell_type": "code",
   "execution_count": 12,
   "metadata": {},
   "outputs": [
    {
     "data": {
      "application/vnd.jupyter.widget-view+json": {
       "model_id": "3f21d624f6e04fd882092e1ec0339d47",
       "version_major": 2,
       "version_minor": 0
      },
      "text/plain": [
       "  0%|          | 0/1 [00:00<?, ?it/s]"
      ]
     },
     "metadata": {},
     "output_type": "display_data"
    }
   ],
   "source": [
    "partial_function = partial(cf.linear_regression_rolling, length=287)\n",
    "results = process_map(partial_function, diction_model, max_workers=cpu_count()-1)\n",
    "prediction = pd.concat(results, ignore_index=True)"
   ]
  },
  {
   "cell_type": "code",
   "execution_count": 13,
   "metadata": {},
   "outputs": [
    {
     "name": "stdout",
     "output_type": "stream",
     "text": [
      "0       0.000000\n",
      "1       0.000000\n",
      "2       0.000000\n",
      "3       0.000000\n",
      "4       0.000000\n",
      "          ...   \n",
      "1281    0.000305\n",
      "1282    0.000508\n",
      "1283    0.000717\n",
      "1284    0.000883\n",
      "1285    0.000701\n",
      "Name: prediction, Length: 1286, dtype: float64\n",
      "0.00011983890194789391\n",
      "0.0\n",
      "3.584094992094735e-06\n",
      "0.15411282790499167\n",
      "0.77724462177931\n",
      "1286\n",
      "0.0006043892859870217\n"
     ]
    }
   ],
   "source": [
    "print(prediction['prediction'])\n",
    "print(prediction['prediction'].mean())\n",
    "print(prediction['prediction'].median())\n",
    "print(prediction['prediction'].var())\n",
    "print(sum(prediction['prediction']))\n",
    "print(sum(abs(prediction['prediction'])))\n",
    "print(len(prediction['prediction']))\n",
    "print(sum(abs(prediction['prediction'])) / len(prediction['prediction']))"
   ]
  },
  {
   "cell_type": "code",
   "execution_count": 16,
   "metadata": {},
   "outputs": [],
   "source": [
    "\n",
    "data_path = r\"/Users/wangyanbo/24Spring/intern/MLBasedFuturesStrategy/Dataset/未连续化/标记了换月日的未连续化的日级数据.csv\"\n",
    "data = pd.read_csv(data_path)\n",
    "\n",
    "data['date'] = pd.to_datetime(data['date'])\n",
    "data = data.loc[data['id'] == name]\n",
    "result = data.merge(prediction[['id', 'date', 'label', 'prediction']], on=['id', 'date'], how='left')\n",
    "result['real_direction'] = result['close'] - result['open']\n",
    "result['real_direction'] = np.where(result['real_direction'] > 0, 1, -1)"
   ]
  },
  {
   "cell_type": "code",
   "execution_count": null,
   "metadata": {},
   "outputs": [
    {
     "ename": "ValueError",
     "evalue": "Location based indexing can only have [integer, integer slice (START point is INCLUDED, END point is EXCLUDED), listlike of integers, boolean array] types",
     "output_type": "error",
     "traceback": [
      "\u001b[0;31m---------------------------------------------------------------------------\u001b[0m",
      "\u001b[0;31mValueError\u001b[0m                                Traceback (most recent call last)",
      "File \u001b[0;32m~/miniforge3/envs/ML/lib/python3.11/site-packages/pandas/core/indexing.py:904\u001b[0m, in \u001b[0;36m_LocationIndexer._validate_tuple_indexer\u001b[0;34m(self, key)\u001b[0m\n\u001b[1;32m    903\u001b[0m \u001b[38;5;28;01mtry\u001b[39;00m:\n\u001b[0;32m--> 904\u001b[0m     \u001b[38;5;28;43mself\u001b[39;49m\u001b[38;5;241;43m.\u001b[39;49m\u001b[43m_validate_key\u001b[49m\u001b[43m(\u001b[49m\u001b[43mk\u001b[49m\u001b[43m,\u001b[49m\u001b[43m \u001b[49m\u001b[43mi\u001b[49m\u001b[43m)\u001b[49m\n\u001b[1;32m    905\u001b[0m \u001b[38;5;28;01mexcept\u001b[39;00m \u001b[38;5;167;01mValueError\u001b[39;00m \u001b[38;5;28;01mas\u001b[39;00m err:\n",
      "File \u001b[0;32m~/miniforge3/envs/ML/lib/python3.11/site-packages/pandas/core/indexing.py:1518\u001b[0m, in \u001b[0;36m_iLocIndexer._validate_key\u001b[0;34m(self, key, axis)\u001b[0m\n\u001b[1;32m   1517\u001b[0m \u001b[38;5;28;01melse\u001b[39;00m:\n\u001b[0;32m-> 1518\u001b[0m     \u001b[38;5;28;01mraise\u001b[39;00m \u001b[38;5;167;01mValueError\u001b[39;00m(\u001b[38;5;124mf\u001b[39m\u001b[38;5;124m\"\u001b[39m\u001b[38;5;124mCan only index by location with a [\u001b[39m\u001b[38;5;132;01m{\u001b[39;00m\u001b[38;5;28mself\u001b[39m\u001b[38;5;241m.\u001b[39m_valid_types\u001b[38;5;132;01m}\u001b[39;00m\u001b[38;5;124m]\u001b[39m\u001b[38;5;124m\"\u001b[39m)\n",
      "\u001b[0;31mValueError\u001b[0m: Can only index by location with a [integer, integer slice (START point is INCLUDED, END point is EXCLUDED), listlike of integers, boolean array]",
      "\nThe above exception was the direct cause of the following exception:\n",
      "\u001b[0;31mValueError\u001b[0m                                Traceback (most recent call last)",
      "Cell \u001b[0;32mIn[21], line 5\u001b[0m\n\u001b[1;32m      2\u001b[0m \u001b[38;5;66;03m# non_na_count = result['prediction'].notna().sum()\u001b[39;00m\n\u001b[1;32m      3\u001b[0m \u001b[38;5;66;03m# print(non_na_count)\u001b[39;00m\n\u001b[1;32m      4\u001b[0m result \u001b[38;5;241m=\u001b[39m result\u001b[38;5;241m.\u001b[39mdropna(subset\u001b[38;5;241m=\u001b[39m[\u001b[38;5;124m'\u001b[39m\u001b[38;5;124mprediction\u001b[39m\u001b[38;5;124m'\u001b[39m])\n\u001b[0;32m----> 5\u001b[0m signals \u001b[38;5;241m=\u001b[39m \u001b[43mcf\u001b[49m\u001b[38;5;241;43m.\u001b[39;49m\u001b[43mnew_signals_day\u001b[49m\u001b[43m(\u001b[49m\u001b[43mresult\u001b[49m\u001b[43m,\u001b[49m\u001b[43m \u001b[49m\u001b[43mbar\u001b[49m\u001b[43m)\u001b[49m\n",
      "File \u001b[0;32m~/24Spring/intern/MLFutureStrategy/计算函数包.py:305\u001b[0m, in \u001b[0;36mnew_signals_day\u001b[0;34m(data, opening)\u001b[0m\n\u001b[1;32m    303\u001b[0m rv \u001b[38;5;241m=\u001b[39m np\u001b[38;5;241m.\u001b[39mrandom\u001b[38;5;241m.\u001b[39mchoice(outcomes, p\u001b[38;5;241m=\u001b[39m[\u001b[38;5;241m1\u001b[39m\u001b[38;5;241m-\u001b[39mwin_rate, win_rate])\n\u001b[1;32m    304\u001b[0m one_signals\u001b[38;5;241m.\u001b[39mloc[\u001b[38;5;241m0\u001b[39m, \u001b[38;5;124m\"\u001b[39m\u001b[38;5;124mDirection\u001b[39m\u001b[38;5;124m\"\u001b[39m] \u001b[38;5;241m=\u001b[39m np\u001b[38;5;241m.\u001b[39msign(row[\u001b[38;5;124m'\u001b[39m\u001b[38;5;124mprediction\u001b[39m\u001b[38;5;124m'\u001b[39m]) \u001b[38;5;241m*\u001b[39m rv\n\u001b[0;32m--> 305\u001b[0m \u001b[38;5;28;01mif\u001b[39;00m one_signals\u001b[38;5;241m.\u001b[39mloc[\u001b[38;5;241m0\u001b[39m, \u001b[38;5;124m\"\u001b[39m\u001b[38;5;124mDirection\u001b[39m\u001b[38;5;124m\"\u001b[39m] \u001b[38;5;241m==\u001b[39m \u001b[43mone_signals\u001b[49m\u001b[38;5;241;43m.\u001b[39;49m\u001b[43miloc\u001b[49m\u001b[43m[\u001b[49m\u001b[38;5;241;43m0\u001b[39;49m\u001b[43m,\u001b[49m\u001b[43m \u001b[49m\u001b[38;5;124;43m'\u001b[39;49m\u001b[38;5;124;43mReal_direction\u001b[39;49m\u001b[38;5;124;43m'\u001b[39;49m\u001b[43m]\u001b[49m:\n\u001b[1;32m    306\u001b[0m     count_win \u001b[38;5;241m=\u001b[39m count_win \u001b[38;5;241m+\u001b[39m \u001b[38;5;241m1\u001b[39m\n\u001b[1;32m    307\u001b[0m one_signals\u001b[38;5;241m.\u001b[39mloc[\u001b[38;5;241m0\u001b[39m, \u001b[38;5;124m\"\u001b[39m\u001b[38;5;124mClose_Time\u001b[39m\u001b[38;5;124m\"\u001b[39m] \u001b[38;5;241m=\u001b[39m next_row[\u001b[38;5;124m'\u001b[39m\u001b[38;5;124mdate\u001b[39m\u001b[38;5;124m'\u001b[39m]\n",
      "File \u001b[0;32m~/miniforge3/envs/ML/lib/python3.11/site-packages/pandas/core/indexing.py:1097\u001b[0m, in \u001b[0;36m_LocationIndexer.__getitem__\u001b[0;34m(self, key)\u001b[0m\n\u001b[1;32m   1095\u001b[0m     \u001b[38;5;28;01mif\u001b[39;00m \u001b[38;5;28mself\u001b[39m\u001b[38;5;241m.\u001b[39m_is_scalar_access(key):\n\u001b[1;32m   1096\u001b[0m         \u001b[38;5;28;01mreturn\u001b[39;00m \u001b[38;5;28mself\u001b[39m\u001b[38;5;241m.\u001b[39mobj\u001b[38;5;241m.\u001b[39m_get_value(\u001b[38;5;241m*\u001b[39mkey, takeable\u001b[38;5;241m=\u001b[39m\u001b[38;5;28mself\u001b[39m\u001b[38;5;241m.\u001b[39m_takeable)\n\u001b[0;32m-> 1097\u001b[0m     \u001b[38;5;28;01mreturn\u001b[39;00m \u001b[38;5;28;43mself\u001b[39;49m\u001b[38;5;241;43m.\u001b[39;49m\u001b[43m_getitem_tuple\u001b[49m\u001b[43m(\u001b[49m\u001b[43mkey\u001b[49m\u001b[43m)\u001b[49m\n\u001b[1;32m   1098\u001b[0m \u001b[38;5;28;01melse\u001b[39;00m:\n\u001b[1;32m   1099\u001b[0m     \u001b[38;5;66;03m# we by definition only have the 0th axis\u001b[39;00m\n\u001b[1;32m   1100\u001b[0m     axis \u001b[38;5;241m=\u001b[39m \u001b[38;5;28mself\u001b[39m\u001b[38;5;241m.\u001b[39maxis \u001b[38;5;129;01mor\u001b[39;00m \u001b[38;5;241m0\u001b[39m\n",
      "File \u001b[0;32m~/miniforge3/envs/ML/lib/python3.11/site-packages/pandas/core/indexing.py:1594\u001b[0m, in \u001b[0;36m_iLocIndexer._getitem_tuple\u001b[0;34m(self, tup)\u001b[0m\n\u001b[1;32m   1593\u001b[0m \u001b[38;5;28;01mdef\u001b[39;00m \u001b[38;5;21m_getitem_tuple\u001b[39m(\u001b[38;5;28mself\u001b[39m, tup: \u001b[38;5;28mtuple\u001b[39m):\n\u001b[0;32m-> 1594\u001b[0m     tup \u001b[38;5;241m=\u001b[39m \u001b[38;5;28;43mself\u001b[39;49m\u001b[38;5;241;43m.\u001b[39;49m\u001b[43m_validate_tuple_indexer\u001b[49m\u001b[43m(\u001b[49m\u001b[43mtup\u001b[49m\u001b[43m)\u001b[49m\n\u001b[1;32m   1595\u001b[0m     \u001b[38;5;28;01mwith\u001b[39;00m suppress(IndexingError):\n\u001b[1;32m   1596\u001b[0m         \u001b[38;5;28;01mreturn\u001b[39;00m \u001b[38;5;28mself\u001b[39m\u001b[38;5;241m.\u001b[39m_getitem_lowerdim(tup)\n",
      "File \u001b[0;32m~/miniforge3/envs/ML/lib/python3.11/site-packages/pandas/core/indexing.py:906\u001b[0m, in \u001b[0;36m_LocationIndexer._validate_tuple_indexer\u001b[0;34m(self, key)\u001b[0m\n\u001b[1;32m    904\u001b[0m         \u001b[38;5;28mself\u001b[39m\u001b[38;5;241m.\u001b[39m_validate_key(k, i)\n\u001b[1;32m    905\u001b[0m     \u001b[38;5;28;01mexcept\u001b[39;00m \u001b[38;5;167;01mValueError\u001b[39;00m \u001b[38;5;28;01mas\u001b[39;00m err:\n\u001b[0;32m--> 906\u001b[0m         \u001b[38;5;28;01mraise\u001b[39;00m \u001b[38;5;167;01mValueError\u001b[39;00m(\n\u001b[1;32m    907\u001b[0m             \u001b[38;5;124m\"\u001b[39m\u001b[38;5;124mLocation based indexing can only have \u001b[39m\u001b[38;5;124m\"\u001b[39m\n\u001b[1;32m    908\u001b[0m             \u001b[38;5;124mf\u001b[39m\u001b[38;5;124m\"\u001b[39m\u001b[38;5;124m[\u001b[39m\u001b[38;5;132;01m{\u001b[39;00m\u001b[38;5;28mself\u001b[39m\u001b[38;5;241m.\u001b[39m_valid_types\u001b[38;5;132;01m}\u001b[39;00m\u001b[38;5;124m] types\u001b[39m\u001b[38;5;124m\"\u001b[39m\n\u001b[1;32m    909\u001b[0m         ) \u001b[38;5;28;01mfrom\u001b[39;00m \u001b[38;5;21;01merr\u001b[39;00m\n\u001b[1;32m    910\u001b[0m \u001b[38;5;28;01mreturn\u001b[39;00m key\n",
      "\u001b[0;31mValueError\u001b[0m: Location based indexing can only have [integer, integer slice (START point is INCLUDED, END point is EXCLUDED), listlike of integers, boolean array] types"
     ]
    }
   ],
   "source": [
    "bar = 0.002\n",
    "# non_na_count = result['prediction'].notna().sum()\n",
    "# print(non_na_count)\n",
    "result = result.dropna(subset=['prediction'])\n",
    "signals = cf.new_signals_day(result, bar)"
   ]
  },
  {
   "cell_type": "code",
   "execution_count": null,
   "metadata": {},
   "outputs": [
    {
     "name": "stdout",
     "output_type": "stream",
     "text": [
      "   Asset  Open_Time  Open_Price  Direction Close_Time  Close_Price  \\\n",
      "0     AU 2017-08-21      281.80       -1.0 2017-08-21       279.70   \n",
      "1     AU 2017-08-29      280.30        1.0 2017-08-29       283.80   \n",
      "2     AU 2017-08-30      283.80       -1.0 2017-08-30       280.35   \n",
      "3     AU 2017-08-31      280.35       -1.0 2017-08-31       279.90   \n",
      "4     AU 2017-09-04      282.25       -1.0 2017-09-04       284.20   \n",
      "..   ...        ...         ...        ...        ...          ...   \n",
      "69    AU 2019-08-21      346.30        1.0 2019-08-21       345.35   \n",
      "70    AU 2019-08-27      355.70       -1.0 2019-08-27       358.70   \n",
      "71    AU 2019-09-09      351.10        1.0 2019-09-09       350.60   \n",
      "72    AU 2019-11-07      336.50        1.0 2019-11-07       338.35   \n",
      "73    AU 2019-11-19      334.80        1.0 2019-11-19       338.30   \n",
      "\n",
      "    Predicted_Return      Position  Real_direction  \n",
      "0          -0.003495  4.742694e+09               1  \n",
      "1           0.002071  4.746880e+09              -1  \n",
      "2          -0.002575  4.805302e+09               1  \n",
      "3          -0.003902  4.714926e+09               1  \n",
      "4          -0.003127  4.792605e+09              -1  \n",
      "..               ...           ...             ...  \n",
      "69          0.003739  5.995319e+09               1  \n",
      "70         -0.002664  6.359916e+09              -1  \n",
      "71          0.002594  6.168827e+09               1  \n",
      "72          0.002001  1.135351e+10              -1  \n",
      "73          0.002097  1.116558e+10              -1  \n",
      "\n",
      "[74 rows x 9 columns]\n"
     ]
    }
   ],
   "source": [
    "signals = equal_weight(signals, 20000)\n",
    "print(signals)\n",
    "signals['Open_Time'] = pd.to_datetime(signals['Open_Time']).dt.date\n",
    "daily_transactions = signals.groupby('Open_Time')['Position'].sum()"
   ]
  },
  {
   "cell_type": "code",
   "execution_count": null,
   "metadata": {},
   "outputs": [
    {
     "name": "stdout",
     "output_type": "stream",
     "text": [
      "最大回撤开始日期: 2019-08-06 00:00:00\n",
      "最大回撤结束日期: 2019-09-09 00:00:00\n",
      "交易次数: 74, 胜率: 52.70%, 日胜率: 53.42%, 盈亏比: 1.136, 日盈亏比: 1.136, 单笔平均盈亏: 168.243, 最大回撤: 0.053, 总收益率: 4.15%, 年化收益率: 1.83%, 夏普比率: -0.058, 卡玛比率: 0.344, 百次交易盈亏0.12583533594495622\n"
     ]
    },
    {
     "data": {
      "image/png": "[encoded data removed]",
      "text/plain": [
       "<Figure size 1000x600 with 1 Axes>"
      ]
     },
     "metadata": {},
     "output_type": "display_data"
    }
   ],
   "source": [
    "# 输出回测结果\n",
    "%matplotlib inline\n",
    "\n",
    "initial_capital = 300000\n",
    "record_i_want, df_of_return, daily_return = newbacktest.backtest(initial_capital, signals)"
   ]
  },
  {
   "cell_type": "code",
   "execution_count": null,
   "metadata": {},
   "outputs": [],
   "source": [
    "from datetime import datetime\n",
    "import os\n",
    "timenow = datetime.now()\n",
    "timestamp_str = timenow.strftime(\"%Y-%m-%d_%H-%M-%S\") \n",
    "dir_name = f\"records/{timestamp_str}\"\n",
    "os.makedirs(dir_name, exist_ok=True)  # Create directory if it doesn't exist\n",
    "save_path = f\"{dir_name}/signals.csv\"  \n",
    "signals.to_csv(save_path)"
   ]
  },
  {
   "cell_type": "code",
   "execution_count": null,
   "metadata": {},
   "outputs": [
    {
     "name": "stdout",
     "output_type": "stream",
     "text": [
      "Daily Transaction \n",
      " Open_Time\n",
      "2017-08-21    4.742694e+09\n",
      "2017-08-29    4.746880e+09\n",
      "2017-08-30    4.805302e+09\n",
      "2017-08-31    4.714926e+09\n",
      "2017-09-04    4.792605e+09\n",
      "                  ...     \n",
      "2019-08-21    5.995319e+09\n",
      "2019-08-27    6.359916e+09\n",
      "2019-09-09    6.168827e+09\n",
      "2019-11-07    1.135351e+10\n",
      "2019-11-19    1.116558e+10\n",
      "Name: Position, Length: 74, dtype: float64\n",
      "Max daily Transaction 11353510000.0\n",
      "Max Hands 1.0\n",
      "Max Position Rate: 37845.03333333333\n",
      "Min Position Rate: 12069.133333333333\n",
      "Min daily transaction 3620740000.0\n"
     ]
    }
   ],
   "source": [
    "print(\"Daily Transaction \\n\", daily_transactions)\n",
    "print(\"Max daily Transaction\", daily_transactions.max())\n",
    "print(\"Max Hands\", abs(signals['Direction']).max())\n",
    "print(\"Max Position Rate:\", daily_transactions.max() / initial_capital)\n",
    "print(\"Min Position Rate:\", daily_transactions.min() / initial_capital)\n",
    "print(\"Min daily transaction\", daily_transactions.min())"
   ]
  }
 ],
 "metadata": {
  "kernelspec": {
   "display_name": "ML",
   "language": "python",
   "name": "python3"
  },
  "language_info": {
   "codemirror_mode": {
    "name": "ipython",
    "version": 3
   },
   "file_extension": ".py",
   "mimetype": "text/x-python",
   "name": "python",
   "nbconvert_exporter": "python",
   "pygments_lexer": "ipython3",
   "version": "3.11.0"
  }
 },
 "nbformat": 4,
 "nbformat_minor": 2
}
