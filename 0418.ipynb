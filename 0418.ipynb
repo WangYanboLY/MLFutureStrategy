{
 "cells": [
  {
   "cell_type": "code",
   "execution_count": 30,
   "metadata": {},
   "outputs": [],
   "source": [
    "from 传统动量指标集 import *\n",
    "from 传统波动率指标集 import *\n",
    "from 国泰君安指标计算集 import *\n",
    "from 世宽指标计算集 import *\n",
    "\n",
    "import pandas as pd\n",
    "import 计算函数包\n",
    "from tqdm.contrib.concurrent import process_map\n",
    "from multiprocessing import Pool, cpu_count\n",
    "from functools import partial\n",
    "import 回测函数包\n",
    "import importlib\n",
    "importlib.reload(回测函数包)\n",
    "importlib.reload(计算函数包)\n",
    "import 计算函数包 as cf\n",
    "from 回测函数包 import *\n",
    "import newbacktest"
   ]
  },
  {
   "cell_type": "code",
   "execution_count": 17,
   "metadata": {},
   "outputs": [
    {
     "name": "stdout",
     "output_type": "stream",
     "text": [
      "已删除所有周五和所有换月日\n",
      "{'A': [], 'AG': ['gj_014', 'gj_019', 'returns_last_5days', 'gj_018', 'gj_066', 'gj_065', 'gj_026', 'gj_017', 'gj_046', 'gj_011', 'gj_063', 'gj_003', 'gj_022', 'gj_029', 'gj_047'], 'AL': ['gj_037', 'wq_005', 'wq_070', 'gj_012', 'wq_008'], 'AP': ['wq_025', 'wq_010', 'wq_018', 'wq_033', 'gj_054', 'wq_009', 'flipping_weight_4_67', 'gj_060', 'gj_010', 'flipping_weight_29_69', 'wq_028', 'weighted_avg_return_42', 'wq_035'], 'AU': ['gj_043', 'gj_022', 'returns_last_5days', 'gj_018', 'gj_019', 'gj_014'], 'BC': ['wq_025', 'wq_018', 'wq_010', 'wq_083', 'gj_054', 'wq_017', 'wq_054', 'wq_011', 'wq_009', 'gj_007', 'gj_002', 'wq_028', 'wq_033', 'wq_047', 'wq_066'], 'BU': ['gj_020', 'returns_last_5days', 'gj_018', 'gj_019', 'gj_017', 'gj_011', 'gj_014'], 'C': ['wq_044'], 'CF': ['returns_last_2days', 'returns_daliy_max_2days', 'gj_043', 'weighted_avg_return_2', 'gj_013', 'wq_041'], 'CJ': ['wq_065', 'weighted_avg_return_2', 'gj_046', 'returns_last_2days', 'gj_026', 'gj_027', 'wq_042', 'gj_034', 'gj_031', 'gj_063', 'gj_020', 'gj_029', 'gj_021', 'gj_009', 'returns_daliy_max_2days'], 'CS': ['gj_052', 'returns_last_18day'], 'CU': ['wq_018', 'wq_025', 'gj_054', 'wq_009', 'wq_033', 'flipping_weight_4_67', 'wq_038', 'flipping_weight_29_69', 'wq_054', 'wq_034', 'wq_037', 'wq_083', 'wq_028', 'returns_daliy_max_2days', 'wq_010'], 'CY': ['weighted_avg_return_42', 'sma_weight_con_3_62'], 'EB': ['wq_065', 'wq_020', 'wq_060', 'gj_002'], 'EG': ['weighted_avg_return_42', 'gj_006', 'returns_daliy_max_last_20days', 'returns_last_18day'], 'FG': ['wq_054'], 'FU': ['returns_daliy_max_last_20days', 'wq_001', 'wq_083'], 'HC': [], 'I': ['gj_037', 'gj_019', 'returns_last_5days', 'gj_018', 'wq_035', 'gj_014', 'wq_057', 'wq_038', 'gj_065', 'gj_066', 'flipping_weight_4_67'], 'IC': ['wq_054', 'wq_019', 'gj_013', 'wq_041'], 'IF': ['gj_011', 'gj_013', 'wq_041', 'wq_028'], 'IH': ['returns_daliy_max_7days'], 'IM': ['gj_006', 'wq_023', 'gj_038', 'gj_053', 'gj_008', 'weighted_avg_return_2', 'gj_051', 'returns_last_2days', 'gj_049', 'gj_050', 'gj_023', 'gj_041', 'high_low_5days', 'wq_071', 'gj_001'], 'J': ['wq_057', 'wq_028', 'wq_018', 'wq_033', 'flipping_weight_4_67', 'wq_054', 'gj_054', 'flipping_weight_29_69', 'wq_083', 'wq_035', 'wq_025', 'wq_043', 'gj_002', 'gj_037'], 'JD': ['wq_009', 'wq_049', 'wq_051', 'gj_013', 'wq_041', 'wq_034', 'flipping_weight_4_67', 'gj_010', 'wq_054'], 'JM': ['wq_038', 'wq_054', 'wq_033', 'wq_028', 'flipping_weight_4_67', 'flipping_weight_29_69', 'wq_018', 'wq_035', 'wq_034', 'wq_083', 'wq_057', 'wq_025', 'gj_011', 'wq_066', 'gj_054'], 'L': [], 'LH': ['wq_020', 'returns_last_2days', 'weighted_avg_return_2', 'gj_015', 'gj_012', 'gj_053', 'wq_008', 'gj_043', 'wq_030', 'gj_054', 'gj_038', 'wq_023', 'wq_025', 'gj_023', 'returns_daliy_max_2days'], 'LU': ['wq_008', 'gj_001', 'gj_040', 'gj_057', 'gj_031', 'gj_034', 'gj_052', 'gj_047', 'gj_028', 'gj_046', 'gj_051', 'gj_050', 'gj_049', 'wq_038', 'wq_011'], 'M': [], 'MA': ['high_low_17days', 'gj_011', 'gj_003', 'wq_037', 'wq_035'], 'NI': ['gj_017', 'wq_083', 'wq_035', 'wq_054', 'wq_066', 'gj_043', 'gj_011', 'gj_036'], 'NR': ['gj_013', 'wq_041', 'wq_008', 'wq_055', 'wq_017'], 'OI': ['gj_056', 'wq_040', 'wq_046', 'wq_020'], 'P': ['returns_daliy_max_last_20days', 'returns_std_27days'], 'PB': ['wq_047', 'wq_031', 'gj_065', 'gj_066', 'gj_026', 'returns_last_5days', 'gj_018', 'gj_019', 'gj_014', 'gj_046', 'gj_034', 'gj_031'], 'PF': ['high_low_17days', 'weighted_avg_return_42', 'wq_044', 'wq_045', 'wq_026', 'volume_std_21days', 'gj_005', 'returns_std_27days', 'wq_055', 'wq_029', 'gj_042'], 'PG': ['returns_daliy_max_7days', 'gj_011', 'wq_002', 'volume_std_2days', 'returns_daliy_max_2days', 'high_low_5days'], 'PK': ['wq_027', 'gj_017', 'wq_006', 'gj_052', 'gj_018', 'returns_last_5days', 'gj_019', 'gj_014', 'wq_014', 'gj_015', 'gj_062', 'volume_std_21days', 'returns_daliy_max_last_20days', 'gj_065', 'gj_066'], 'PP': [], 'RB': ['wq_034', 'wq_038', 'gj_054', 'wq_057', 'flipping_weight_4_67', 'wq_033', 'flipping_weight_29_69', 'wq_035', 'wq_028', 'wq_066', 'gj_010', 'wq_018', 'wq_042', 'wq_025', 'gj_066'], 'RM': [], 'RU': ['wq_054', 'flipping_weight_29_69'], 'SA': ['wq_034', 'wq_045', 'wq_044', 'wq_046', 'gj_049', 'gj_050', 'gj_051', 'wq_047', 'gj_043', 'gj_004', 'wq_021'], 'SC': ['high_low_17days', 'gj_013', 'wq_041', 'wq_065', 'volume_std_11days', 'gj_056'], 'SF': ['high_low_17days', 'returns_daliy_max_last_20days', 'high_low_5days', 'returns_std_27days'], 'SI': ['wq_002', 'wq_046', 'gj_013', 'wq_041', 'gj_002', 'gj_043', 'gj_063', 'gj_041', 'gj_051', 'gj_003'], 'SM': [], 'SN': ['wq_027', 'wq_035', 'wq_017', 'wq_025', 'gj_043'], 'SP': ['returns_last_18day'], 'SR': ['gj_024', 'gj_020', 'gj_003', 'gj_019', 'returns_last_5days', 'gj_018', 'gj_014', 'gj_047', 'gj_029', 'gj_017', 'gj_027', 'gj_011', 'gj_057'], 'SS': ['gj_013', 'wq_041', 'gj_038', 'wq_023', 'wq_040', 'wq_034', 'gj_005', 'wq_026', 'wq_035', 'wq_003', 'returns_daliy_max_2days', 'wq_044', 'wq_013', 'wq_077'], 'T': ['gj_054', 'gj_013', 'wq_041', 'returns_daliy_max_2days', 'wq_049', 'wq_038', 'flipping_weight_29_69', 'wq_018', 'gj_046', 'flipping_weight_4_67', 'wq_046', 'gj_034', 'gj_031', 'returns_last_2days', 'wq_060'], 'TA': [], 'TF': ['wq_031', 'returns_last_2days', 'gj_063', 'gj_046', 'gj_034', 'gj_031', 'gj_054', 'weighted_avg_return_2', 'gj_028', 'wq_025', 'gj_066', 'gj_065', 'wq_049', 'gj_057', 'returns_daliy_max_2days'], 'UR': ['wq_029', 'wq_046'], 'V': [], 'WR': ['wq_046', 'wq_031', 'volume_std_11days', 'wq_019', 'volume_std_2days', 'wq_017', 'wq_008', 'wq_044'], 'Y': ['returns_std_27days', 'gj_042', 'wq_068', 'gj_056', 'returns_std_3days', 'wq_040'], 'ZN': ['gj_014', 'gj_019', 'returns_last_5days', 'gj_018', 'gj_063', 'wq_042', 'gj_017', 'gj_011', 'wq_038', 'gj_026', 'gj_020', 'gj_031', 'gj_034', 'gj_003', 'gj_065']}\n",
      "指标筛选已完成\n"
     ]
    }
   ],
   "source": [
    "# 首先计算因子\n",
    "\n",
    "\n",
    "if __name__ == \"__main__\":\n",
    "    feature_compute_funcs = [\n",
    "        high_low_5days, high_low_17days,\n",
    "\n",
    "        volume_std_2days, volume_std_11days, volume_std_21days,\n",
    "\n",
    "        returns_std_3days, returns_std_27days, returns_last_5days, returns_last_18day, returns_last_2days,\n",
    "\n",
    "        weighted_avg_return_2, weighted_avg_return_42,\n",
    "\n",
    "        returns_daliy_max_2days, returns_daliy_max_7days, returns_daliy_max_last_20days,\n",
    "\n",
    "        sma_weight_con_23_37, sma_weight_con_3_62,\n",
    "\n",
    "        flipping_weight_29_69, flipping_weight_4_67,\n",
    "\n",
    "        gj_001, gj_002, gj_003, gj_004, gj_005, gj_006, gj_007, gj_008, gj_009, gj_010,\n",
    "        gj_011, gj_012, gj_013, gj_014, gj_015, gj_016, gj_017, gj_018, gj_019, gj_020,\n",
    "        gj_021, gj_022, gj_023, gj_024, gj_025, gj_026, gj_027, gj_028, gj_029, gj_031,\n",
    "        gj_032, gj_033, gj_034, gj_035, gj_036, gj_037, gj_038, gj_039, gj_040, gj_041,\n",
    "        gj_042, gj_043, gj_044, gj_045, gj_046, gj_047, gj_048, gj_049, gj_050, gj_051,\n",
    "        gj_052, gj_053, gj_054, gj_056, gj_057, gj_058, gj_059, gj_060, gj_061, gj_062,\n",
    "        gj_063, gj_064, gj_065, gj_066,\n",
    "\n",
    "        wq_001, wq_002, wq_003, wq_004, wq_005, wq_006, wq_007, wq_008, wq_009, wq_010,\n",
    "        wq_011, wq_012, wq_013, wq_014, wq_015, wq_016, wq_017, wq_018, wq_019, wq_020,\n",
    "        wq_021, wq_022, wq_023, wq_024, wq_025, wq_026, wq_027, wq_028, wq_029, wq_030,\n",
    "        wq_031, wq_032, wq_033, wq_034, wq_035, wq_036, wq_037, wq_038, wq_039, wq_040,\n",
    "        wq_041, wq_042, wq_043, wq_044, wq_045, wq_046, wq_047, wq_049, wq_050, wq_051,\n",
    "        wq_052, wq_053, wq_054, wq_055, wq_057, wq_065, wq_064, wq_060, wq_061, wq_066,\n",
    "        wq_068, wq_070, wq_071, wq_072, wq_073, wq_074, wq_075, wq_077, wq_078, wq_081,\n",
    "        wq_083, wq_085\n",
    "    ]\n",
    "    # 读取因子名\n",
    "    feature_names = [func.__name__ for func in feature_compute_funcs]\n",
    "    df = pd.read_csv(\"/Users/wangyanbo/24Spring/intern/MLBasedFuturesStrategy/Dataset/指标已计算/dataset.csv\")\n",
    "    df['date'] = pd.to_datetime(df['date'])\n",
    "    df = df.loc[df['huanyue'] != 1]\n",
    "    df = df.loc[df['date'].dt.dayofweek != 4]\n",
    "    print(\"已删除所有周五和所有换月日\")\n",
    "\n",
    "    # TODO 修改初筛因子的方法\n",
    "    ic = cf.information_coefficient(df, feature_list=feature_names)\n",
    "    features = cf.factor_filter_double(df, ic, number_bar=0.1, top_n=15, ic_bar=0.07125)\n",
    "\n",
    "    print(features)\n",
    "    print(\"指标筛选已完成\")"
   ]
  },
  {
   "cell_type": "code",
   "execution_count": 32,
   "metadata": {},
   "outputs": [
    {
     "name": "stdout",
     "output_type": "stream",
     "text": [
      "元素总数是: 1286\n"
     ]
    }
   ],
   "source": [
    "# 对于给定name的期货进行训练\n",
    "diction_model = []\n",
    "# TODO: 如何用上第一步初筛的结果\n",
    "# selected_features = feature_names\n",
    "\n",
    "name = 'AU'\n",
    "results = []\n",
    "# selected_features = features[name]\n",
    "selected_features = feature_names\n",
    "columns_to_extract = ['date'] + ['id'] + selected_features + ['returns']\n",
    "df_subset = df[df['id'] == name][columns_to_extract]\n",
    "\n",
    "# 删除缺失值\n",
    "df_subset = df_subset.dropna(thresh=int(len(df_subset)*0.9), axis=1)\n",
    "df_subset = df_subset.dropna()\n",
    "df_subset.replace([np.inf, -np.inf], np.nan, inplace=True)\n",
    "df_subset.fillna(method='ffill', inplace=True)\n",
    "df_subset['prediction'] = 0\n",
    "df_subset['prediction'] = df_subset['prediction'].astype(float)\n",
    "\n",
    "# 将数据前99%取出\n",
    "threshold = int(0.99 * len(df_subset))\n",
    "if threshold <= 287:\n",
    "    # 如果某品种过往数据太少，这个品种将不参与运算\n",
    "    print(\"当前品种交易数据太少\")\n",
    "else:\n",
    "    df_subset['label'] = np.where(df_subset.index.isin(df_subset.index[:287]), -1, 1)\n",
    "    diction_model.append(df_subset)\n",
    "\n",
    "# results.append(cf.linear_regression_rolling(df_subset, length=287))\n",
    "\n",
    "\n",
    "sum_length = sum(len(item) for item in diction_model)\n",
    "print(\"元素总数是:\", sum_length)"
   ]
  },
  {
   "cell_type": "code",
   "execution_count": 19,
   "metadata": {},
   "outputs": [
    {
     "data": {
      "application/vnd.jupyter.widget-view+json": {
       "model_id": "634acb23c5a8460aaef4cc1fb13d9775",
       "version_major": 2,
       "version_minor": 0
      },
      "text/plain": [
       "  0%|          | 0/1 [00:00<?, ?it/s]"
      ]
     },
     "metadata": {},
     "output_type": "display_data"
    }
   ],
   "source": [
    "partial_function = partial(cf.linear_regression_rolling, length=287)\n",
    "results = process_map(partial_function, diction_model, max_workers=cpu_count()-1)\n",
    "prediction = pd.concat(results, ignore_index=True)"
   ]
  },
  {
   "cell_type": "code",
   "execution_count": 20,
   "metadata": {},
   "outputs": [
    {
     "name": "stdout",
     "output_type": "stream",
     "text": [
      "滚动训练已结束,即将开始回测\n"
     ]
    }
   ],
   "source": [
    "# partial_function = partial(cf.rolling_rnn, length = 287)\n",
    "# partial_function_lasso = partial(cf.lasso_regression_rolling, length = 287)\n",
    "# results_lasso = process_map(partial_function_lasso, diction_model)\n",
    "# prediction_lasso = pd.concat(results_lasso, ignore_index = True)\n",
    "\n",
    "\n",
    "# print(prediction)\n",
    "print('滚动训练已结束,即将开始回测')"
   ]
  },
  {
   "cell_type": "code",
   "execution_count": 21,
   "metadata": {},
   "outputs": [
    {
     "name": "stdout",
     "output_type": "stream",
     "text": [
      "0       0.000000\n",
      "1       0.000000\n",
      "2       0.000000\n",
      "3       0.000000\n",
      "4       0.000000\n",
      "          ...   \n",
      "1405    0.004992\n",
      "1406    0.001688\n",
      "1407    0.005182\n",
      "1408    0.000904\n",
      "1409    0.002795\n",
      "Name: prediction, Length: 1410, dtype: float64\n",
      "0.00020482796672859242\n",
      "0.0\n",
      "0.0003635063280191603\n",
      "0.2888074330873151\n",
      "3.8055764758923094\n",
      "1410\n",
      "0.002698990408434262\n"
     ]
    }
   ],
   "source": [
    "print(prediction['prediction'])\n",
    "print(prediction['prediction'].mean())\n",
    "print(prediction['prediction'].median())\n",
    "print(prediction['prediction'].var())\n",
    "print(sum(prediction['prediction']))\n",
    "print(sum(abs(prediction['prediction'])))\n",
    "print(len(prediction['prediction']))\n",
    "print(sum(abs(prediction['prediction'])) / len(prediction['prediction']))"
   ]
  },
  {
   "cell_type": "code",
   "execution_count": 22,
   "metadata": {},
   "outputs": [],
   "source": [
    "\n",
    "data_path = r\"/Users/wangyanbo/24Spring/intern/MLBasedFuturesStrategy/Dataset/未连续化/标记了换月日的未连续化的日级数据.csv\"\n",
    "data = pd.read_csv(data_path)\n",
    "\n",
    "data['date'] = pd.to_datetime(data['date'])\n",
    "data = data.loc[data['id'] == name]\n",
    "result = data.merge(prediction[['id', 'date', 'label', 'prediction']], on=['id', 'date'], how='left')\n",
    "result['real_direction'] = result['open'] - result['close']\n",
    "result['real_direction'] = np.where(result['real_direction'] > 0, 1, -1)\n",
    "# result_lasso = data.merge(prediction_lasso[['id', 'date', 'label', 'prediction']], on=['id', 'date'], how='left')\n"
   ]
  },
  {
   "cell_type": "code",
   "execution_count": 31,
   "metadata": {},
   "outputs": [],
   "source": [
    "bar = 0.002\n",
    "# non_na_count = result['prediction'].notna().sum()\n",
    "# print(non_na_count)\n",
    "result = result.dropna(subset=['prediction'])\n",
    "signals = cf.signals_day(result, bar)\n",
    "\n",
    "# result_lasso = result.dropna(subset = ['prediction'])\n",
    "# signals_lasso = cf.signals_day(result_lasso, bar)\n"
   ]
  },
  {
   "cell_type": "code",
   "execution_count": 10,
   "metadata": {},
   "outputs": [
    {
     "name": "stdout",
     "output_type": "stream",
     "text": [
      "    Asset  Open_Time  Open_Price  Direction Close_Time  Close_Price  \\\n",
      "0      FG 2017-02-22      1368.0       -1.0 2017-02-22       1359.0   \n",
      "1      FG 2017-02-23      1356.0       -1.0 2017-02-23       1340.0   \n",
      "2      FG 2017-02-27      1344.0        1.0 2017-02-27       1351.0   \n",
      "3      FG 2017-02-28      1353.0       -1.0 2017-02-28       1320.0   \n",
      "4      FG 2017-03-01      1321.0        1.0 2017-03-01       1324.0   \n",
      "..    ...        ...         ...        ...        ...          ...   \n",
      "549    FG 2023-09-21      1722.0        1.0 2023-09-21       1683.0   \n",
      "550    FG 2023-09-25      1749.0        1.0 2023-09-25       1691.0   \n",
      "551    FG 2023-09-26      1700.0        1.0 2023-09-26       1680.0   \n",
      "552    FG 2023-09-27      1690.0        1.0 2023-09-27       1693.0   \n",
      "553    FG 2023-10-09      1711.0        1.0 2023-10-09       1724.0   \n",
      "\n",
      "     Predicted_Return     Position  \n",
      "0           -0.003002   52055136.0  \n",
      "1           -0.003446   51256800.0  \n",
      "2            0.002115   50953728.0  \n",
      "3           -0.003984   50499372.0  \n",
      "4            0.004129   48935124.0  \n",
      "..                ...          ...  \n",
      "549          0.002068  140349888.0  \n",
      "550          0.004156  143054208.0  \n",
      "551          0.004006  137904000.0  \n",
      "552          0.004992  136930560.0  \n",
      "553          0.005182  141752928.0  \n",
      "\n",
      "[554 rows x 8 columns]\n"
     ]
    }
   ],
   "source": [
    "# 使用信号生成函数生成交易记录，此处设置阈值为0.002\n",
    "# signals = cf.signals_day(result, bar)\n",
    "# 使用等市值函数将开仓手数进行等市值处理\n",
    "# signals = equal_weight_l(signals, 80000, bar)\n",
    "# 0409 80000, 0.002 800000\n",
    "# signals_l = equal_weight_l(signals, 20000, bar)\n",
    "signals = newbacktest.equal_weight(signals, 20000)\n",
    "\n",
    "# signals_lasso_l = equal_weight_l(signals_lasso, 20000, bar)\n",
    "# signals_lasso = equal_weight(signals_lasso, 20000)\n",
    "\n",
    "print(signals)\n",
    "signals['Open_Time'] = pd.to_datetime(signals['Open_Time']).dt.date\n",
    "daily_transactions = signals.groupby('Open_Time')['Position'].sum()\n",
    "\n",
    "\n",
    "\n",
    "\n",
    "# backtest(initial_capital, signals_l)\n",
    "# backtest(initial_capital, signals_lasso)\n",
    "# backtest(initial_capital, signals_lasso_l)"
   ]
  },
  {
   "cell_type": "code",
   "execution_count": 11,
   "metadata": {},
   "outputs": [
    {
     "name": "stdout",
     "output_type": "stream",
     "text": [
      "最大回撤开始日期: 2021-07-22 00:00:00\n",
      "最大回撤结束日期: 2021-09-09 00:00:00\n",
      "交易次数: 554, 胜率: 51.81%, 日胜率: 51.81%, 盈亏比: 1.086, 日盈亏比: 1.086, 单笔平均盈亏: 27.058, 最大回撤: 0.035, 总收益率: 5.00%, 年化收益率: 0.74%, 夏普比率: -0.986, 卡玛比率: 0.213, 百次交易盈亏0.08043759750897972\n"
     ]
    },
    {
     "data": {
      "image/png": "[encoded data removed]",
      "text/plain": [
       "<Figure size 1000x600 with 1 Axes>"
      ]
     },
     "metadata": {},
     "output_type": "display_data"
    }
   ],
   "source": [
    "# 输出回测结果\n",
    "%matplotlib inline\n",
    "\n",
    "initial_capital = 300000\n",
    "record_i_want, df_of_return, daily_return = newbacktest.backtest(initial_capital, signals)"
   ]
  },
  {
   "cell_type": "code",
   "execution_count": 12,
   "metadata": {},
   "outputs": [],
   "source": [
    "from datetime import datetime\n",
    "import os\n",
    "timenow = datetime.now()\n",
    "timestamp_str = timenow.strftime(\"%Y-%m-%d_%H-%M-%S\") \n",
    "dir_name = f\"records/{timestamp_str}\"\n",
    "os.makedirs(dir_name, exist_ok=True)  # Create directory if it doesn't exist\n",
    "save_path = f\"{dir_name}/signals.csv\"  \n",
    "signals.to_csv(save_path)"
   ]
  },
  {
   "cell_type": "code",
   "execution_count": 14,
   "metadata": {},
   "outputs": [
    {
     "name": "stdout",
     "output_type": "stream",
     "text": [
      "Daily Transaction \n",
      " Open_Time\n",
      "2017-02-22     52055136.0\n",
      "2017-02-23     51256800.0\n",
      "2017-02-27     50953728.0\n",
      "2017-02-28     50499372.0\n",
      "2017-03-01     48935124.0\n",
      "                 ...     \n",
      "2023-09-21    140349888.0\n",
      "2023-09-25    143054208.0\n",
      "2023-09-26    137904000.0\n",
      "2023-09-27    136930560.0\n",
      "2023-10-09    141752928.0\n",
      "Name: Position, Length: 554, dtype: float64\n",
      "Max daily Transaction 549028860.0\n",
      "Max Hands 1.0\n",
      "Max Position Rate: 1830.0962\n",
      "Min Position Rate: 100.264\n",
      "Min daily transaction 30079200.0\n"
     ]
    }
   ],
   "source": [
    "print(\"Daily Transaction \\n\", daily_transactions)\n",
    "print(\"Max daily Transaction\", daily_transactions.max())\n",
    "print(\"Max Hands\", abs(signals['Direction']).max())\n",
    "print(\"Max Position Rate:\", daily_transactions.max() / initial_capital)\n",
    "print(\"Min Position Rate:\", daily_transactions.min() / initial_capital)\n",
    "print(\"Min daily transaction\", daily_transactions.min())"
   ]
  }
 ],
 "metadata": {
  "kernelspec": {
   "display_name": "ML",
   "language": "python",
   "name": "python3"
  },
  "language_info": {
   "codemirror_mode": {
    "name": "ipython",
    "version": 3
   },
   "file_extension": ".py",
   "mimetype": "text/x-python",
   "name": "python",
   "nbconvert_exporter": "python",
   "pygments_lexer": "ipython3",
   "version": "3.11.0"
  }
 },
 "nbformat": 4,
 "nbformat_minor": 2
}
