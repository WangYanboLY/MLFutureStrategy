{
 "cells": [
  {
   "cell_type": "code",
   "execution_count": 3,
   "metadata": {},
   "outputs": [
    {
     "name": "stderr",
     "output_type": "stream",
     "text": [
      "/var/folders/8r/nxvv77y10g556swh249ds84w0000gn/T/ipykernel_38672/2963632914.py:4: DtypeWarning: Columns (0,5,6,7,8) have mixed types. Specify dtype option on import or set low_memory=False.\n",
      "  contract = pd.read_csv('Dataset/combined_data.csv', encoding='utf-8')\n"
     ]
    }
   ],
   "source": [
    "import pandas as pd\n",
    "import numpy as np\n",
    "\n",
    "contract = pd.read_csv('Dataset/combined_data.csv', encoding='utf-8')"
   ]
  },
  {
   "cell_type": "code",
   "execution_count": 2,
   "metadata": {},
   "outputs": [],
   "source": [
    "def get_future_data(df, date, code):\n",
    "    # 读取数据，使用GBK编码\n",
    "\n",
    "    # 将日期列转换为datetime类型，以确保可以进行日期比较\n",
    "    df['time'] = pd.to_datetime(df['time'])\n",
    "    # 替换'--'为NaN\n",
    "    df.replace('--', np.nan, inplace=True)\n",
    "\n",
    "    # 将输入的日期字符串也转换为datetime类型\n",
    "    input_date = pd.to_datetime(date)\n",
    "\n",
    "    # 筛选符合输入日期和代码的行\n",
    "    filtered_data = df[(df['time'] == input_date) & (df['ths_future_code_future_processed'] == code)]\n",
    "\n",
    "    # 检查筛选结果是否为空\n",
    "    if filtered_data.empty:\n",
    "        return \"No data available for the given date and code.\"\n",
    "\n",
    "    # 获取所需的列信息，如果'rate'是null，则使用'fee'\n",
    "    result = filtered_data.apply(lambda row: {\n",
    "        'code': row['ths_future_code_future_processed'],\n",
    "        'contract_multiplier': int(row['ths_contract_multiplier']),\n",
    "        'deposit': float(row['ths_trade_deposit_future']),\n",
    "        'transactionfee': float(\n",
    "            row['ths_transaction_procedure_rate_future'] if pd.isna(row['ths_transaction_procedure_rate_future']) or\n",
    "                                                            row['ths_transaction_procedure_rate_future'] == 0.0 else\n",
    "            row['ths_transaction_procedure_fee_future']),\n",
    "\n",
    "        'opentime': row['ths_open_time_night_future'] if pd.notnull(row['ths_open_time_night_future']) else row[\n",
    "            'ths_open_time_day_future'],\n",
    "\n",
    "    }, axis=1)\n",
    "\n",
    "    # 返回结果\n",
    "    return result.iloc[0]  # 假设每个日期和代码的组合只有一行数据\n",
    "\n",
    "def calculate_trade_return(row):\n",
    "    # 计算基础收益，计算方法为手数 * （收盘价- 开盘价） * 点数\n",
    "    # 注意需要读取未进行换月连续化的数据进行计算，以提高准确性\n",
    "    \n",
    "    row['Return'] = row['Direction'] * (row['Close_Price'] - row['Open_Price']) * (get_future_data(contract,row['Open_Time'],row['Asset'])['contract_multiplier'])\n",
    "    \n",
    "    # 判断手续费是固定还是按比例,默认手续费开双边 *2\n",
    "    if get_future_data(contract,row['Open_Time'],row['Asset'])['transactionfee'] < 1:\n",
    "        # 如果手续费按比例收，计算方法为（开价+收价）* 点数 * 手数绝对值 * 比例\n",
    "        commission = ((get_future_data(contract,row['Open_Time'],row['Asset'])['transactionfee'] \n",
    "                      * get_future_data(contract,row['Open_Time'],row['Asset'])['contract_multiplier'] * (row['Open_Price'] + row['Close_Price']))\n",
    "                      * abs(row['Direction'])*2)\n",
    "    else:  # 固定手续费，直接用手续费值 * 手数绝对值 * 2即可\n",
    "        commission = get_future_data(contract,row['Open_Time'],row['Asset'])['transactionfee'] * 2 * abs(row['Direction'])\n",
    "    # 最终收益 = 基础收益 - 手续费\n",
    "    row['Return'] = row['Return'] - commission\n",
    "    return row"
   ]
  },
  {
   "cell_type": "code",
   "execution_count": 4,
   "metadata": {},
   "outputs": [],
   "source": [
    "signals = pd.read_csv('records/2024-04-22_10-23-38/signals.csv')\n",
    "df = pd.DataFrame(signals,\n",
    "                    columns=['Asset', 'Open_Time', 'Open_Price', 'Direction', 'Close_Time', 'Close_Price'])\n",
    "\n",
    "# 将平仓时间的格式转化为时间戳\n",
    "df['Close_Time'] = pd.to_datetime(df['Close_Time'])\n",
    "\n",
    "# 按照平仓时间排序， 以平仓时间作为一次交易结束并结算的时间\n",
    "df = df.sort_values(by='Close_Time')\n",
    "\n",
    "# 计算每笔交易的收益（转化单位为人民币，考虑手续费）\n",
    "df = df.apply(calculate_trade_return, axis=1)"
   ]
  }
 ],
 "metadata": {
  "kernelspec": {
   "display_name": "ML",
   "language": "python",
   "name": "python3"
  },
  "language_info": {
   "codemirror_mode": {
    "name": "ipython",
    "version": 3
   },
   "file_extension": ".py",
   "mimetype": "text/x-python",
   "name": "python",
   "nbconvert_exporter": "python",
   "pygments_lexer": "ipython3",
   "version": "3.11.0"
  }
 },
 "nbformat": 4,
 "nbformat_minor": 2
}
