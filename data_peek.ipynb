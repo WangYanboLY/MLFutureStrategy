{
 "cells": [
  {
   "cell_type": "code",
   "execution_count": 6,
   "metadata": {},
   "outputs": [
    {
     "name": "stdout",
     "output_type": "stream",
     "text": [
      "ths_contract_multiplier\n",
      "<class 'str'>      131054\n",
      "<class 'int'>        3830\n",
      "<class 'float'>        18\n",
      "Name: count, dtype: int64\n",
      "0         20\n",
      "1         20\n",
      "2         20\n",
      "3         20\n",
      "4         20\n",
      "          ..\n",
      "134897     5\n",
      "134898     5\n",
      "134899     5\n",
      "134900     5\n",
      "134901     5\n",
      "Name: ths_contract_multiplier, Length: 134902, dtype: object\n",
      "ths_contract_multiplier\n"
     ]
    },
    {
     "name": "stderr",
     "output_type": "stream",
     "text": [
      "/var/folders/8r/nxvv77y10g556swh249ds84w0000gn/T/ipykernel_38188/3640230858.py:3: DtypeWarning: Columns (0,5,6,7,8) have mixed types. Specify dtype option on import or set low_memory=False.\n",
      "  data_peek = pd.read_csv('Dataset/combined_data.csv', encoding='utf-8')\n"
     ]
    }
   ],
   "source": [
    "import pandas as pd\n",
    "\n",
    "data_peek = pd.read_csv('Dataset/combined_data.csv', encoding='utf-8')\n",
    "column_name = data_peek.columns[5]\n",
    "print(data_peek[column_name].apply(type).value_counts())\n",
    "print(data_peek[column_name])\n",
    "print(column_name)"
   ]
  },
  {
   "cell_type": "code",
   "execution_count": 8,
   "metadata": {},
   "outputs": [
    {
     "name": "stdout",
     "output_type": "stream",
     "text": [
      "Index(['number', 'time', 'thscode', 'ths_future_code_future',\n",
      "       'ths_mini_chg_price_future', 'ths_contract_multiplier',\n",
      "       'ths_trade_deposit_future', 'ths_transaction_procedure_rate_future',\n",
      "       'ths_transaction_procedure_fee_future', 'ths_open_time_day_future',\n",
      "       'ths_close_time_day_future', 'ths_open_time_night_future',\n",
      "       'ths_close_time_night_future', 'ths_exchange_name_eng_future',\n",
      "       'Unnamed: 14', 'thscode_processed', 'ths_future_code_future_processed'],\n",
      "      dtype='object')\n"
     ]
    }
   ],
   "source": [
    "column_names = data_peek.columns\n",
    "print(column_names)"
   ]
  }
 ],
 "metadata": {
  "kernelspec": {
   "display_name": "ML",
   "language": "python",
   "name": "python3"
  },
  "language_info": {
   "codemirror_mode": {
    "name": "ipython",
    "version": 3
   },
   "file_extension": ".py",
   "mimetype": "text/x-python",
   "name": "python",
   "nbconvert_exporter": "python",
   "pygments_lexer": "ipython3",
   "version": "3.11.0"
  }
 },
 "nbformat": 4,
 "nbformat_minor": 2
}
